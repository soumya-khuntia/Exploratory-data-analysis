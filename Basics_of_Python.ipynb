{
  "cells": [
    {
      "cell_type": "markdown",
      "metadata": {
        "id": "lc9T04WNouUu"
      },
      "source": [
        "# Python Basics for Astronomy"
      ]
    },
    {
      "cell_type": "code",
      "execution_count": 1,
      "metadata": {
        "colab": {
          "base_uri": "https://localhost:8080/"
        },
        "id": "wfUtm8cjo0kg",
        "outputId": "970eb381-eeb9-443f-f7d9-fa66c594bb21"
      },
      "outputs": [
        {
          "name": "stdout",
          "output_type": "stream",
          "text": [
            "hello world!\n"
          ]
        }
      ],
      "source": [
        "print(\"hello world!\")"
      ]
    },
    {
      "cell_type": "markdown",
      "metadata": {
        "id": "WpRCTGituLIs"
      },
      "source": [
        "### 1. Variables and Constants"
      ]
    },
    {
      "cell_type": "code",
      "execution_count": 2,
      "metadata": {
        "colab": {
          "base_uri": "https://localhost:8080/"
        },
        "id": "csOb1KUiuJ1B",
        "outputId": "8706ab78-4c9b-4af6-f0d1-f749e86c0c48"
      },
      "outputs": [
        {
          "name": "stdout",
          "output_type": "stream",
          "text": [
            "22\n"
          ]
        }
      ],
      "source": [
        "x = 4\n",
        "y = 5\n",
        "print(x + x + y + x + y)"
      ]
    },
    {
      "cell_type": "code",
      "execution_count": 3,
      "metadata": {
        "id": "6-toHLsEvBmZ"
      },
      "outputs": [],
      "source": [
        "y = 1"
      ]
    },
    {
      "cell_type": "markdown",
      "metadata": {
        "id": "reu-R80TvwQ_"
      },
      "source": [
        "### 2. Basic Data Types"
      ]
    },
    {
      "cell_type": "code",
      "execution_count": 4,
      "metadata": {
        "id": "cwlavqV6vxgn"
      },
      "outputs": [],
      "source": [
        "# Create varaibles to store the information about a planet in our Solar System\n",
        "planet_name = 'Venus'\n",
        "planet_age = '4.6 Billion Years'\n",
        "planet_index = 1"
      ]
    },
    {
      "cell_type": "code",
      "execution_count": 5,
      "metadata": {
        "colab": {
          "base_uri": "https://localhost:8080/"
        },
        "id": "oKtB8r3Gwf1I",
        "outputId": "19251150-2540-4e3e-a8f5-340721eb0d1f"
      },
      "outputs": [
        {
          "name": "stdout",
          "output_type": "stream",
          "text": [
            "Venus\n",
            "4.6 Billion Years\n",
            "1\n"
          ]
        }
      ],
      "source": [
        "# Displaying the data values for each variables\n",
        "print(planet_name)\n",
        "print(planet_age)\n",
        "print(planet_index)"
      ]
    },
    {
      "cell_type": "code",
      "execution_count": 6,
      "metadata": {
        "colab": {
          "base_uri": "https://localhost:8080/"
        },
        "id": "0DfS0DkAx2c4",
        "outputId": "173de3e3-2160-41fe-f555-87bbaad4a6b8"
      },
      "outputs": [
        {
          "name": "stdout",
          "output_type": "stream",
          "text": [
            "<class 'str'>\n",
            "<class 'str'>\n",
            "<class 'int'>\n"
          ]
        }
      ],
      "source": [
        "# Checking the type of variables by using type() command\n",
        "print(type(planet_name))\n",
        "print(type(planet_age))\n",
        "print(type(planet_index))"
      ]
    },
    {
      "cell_type": "code",
      "execution_count": 7,
      "metadata": {
        "colab": {
          "base_uri": "https://localhost:8080/"
        },
        "id": "UDDQK-UiyDB3",
        "outputId": "55a0d1aa-547b-4e61-c46b-4a8a0d26311d"
      },
      "outputs": [
        {
          "name": "stdout",
          "output_type": "stream",
          "text": [
            "<class 'float'>\n"
          ]
        }
      ],
      "source": [
        "z = 3.2\n",
        "print(type(z))"
      ]
    },
    {
      "cell_type": "markdown",
      "metadata": {
        "id": "6xf0pLoGy4GW"
      },
      "source": [
        "### 3. f-strings"
      ]
    },
    {
      "cell_type": "code",
      "execution_count": 8,
      "metadata": {
        "colab": {
          "base_uri": "https://localhost:8080/"
        },
        "id": "oldv3vNoy52Y",
        "outputId": "c70e39c1-9c6c-4696-c285-d1a08db51e14"
      },
      "outputs": [
        {
          "name": "stdout",
          "output_type": "stream",
          "text": [
            "Planet Saturn has 150 Moons\n"
          ]
        }
      ],
      "source": [
        "# Understanding the power of f-strings\n",
        "name_planet = 'Saturn'\n",
        "moons_planet = 150\n",
        "print(f\"Planet {name_planet} has {moons_planet} Moons\")"
      ]
    },
    {
      "cell_type": "code",
      "execution_count": 9,
      "metadata": {
        "colab": {
          "base_uri": "https://localhost:8080/"
        },
        "id": "-CRUNPOEz0cL",
        "outputId": "326bdc79-58a9-4357-d080-d5b58d8b138b"
      },
      "outputs": [
        {
          "name": "stdout",
          "output_type": "stream",
          "text": [
            "Earth is the only planet with Life. Maybe not! :D\n"
          ]
        }
      ],
      "source": [
        "# String concatenation\n",
        "str_1 = \"Earth is the only planet with Life.\"\n",
        "str_2 = \"Maybe not! :D\"\n",
        "print(f'{str_1} {str_2}')"
      ]
    },
    {
      "cell_type": "markdown",
      "metadata": {
        "id": "3StFZzue1OsM"
      },
      "source": [
        "### 4. User Inputs"
      ]
    },
    {
      "cell_type": "code",
      "execution_count": 2,
      "metadata": {
        "colab": {
          "base_uri": "https://localhost:8080/"
        },
        "id": "Ah5jX08X1Qg3",
        "outputId": "85d3fe3a-a5af-464c-b256-80dee02d29b3"
      },
      "outputs": [],
      "source": [
        "# Use input() to take user inputs\n",
        "user_name = input(\"Enter your name:- \")"
      ]
    },
    {
      "cell_type": "code",
      "execution_count": 3,
      "metadata": {
        "colab": {
          "base_uri": "https://localhost:8080/"
        },
        "id": "3pUxcmYg1ljF",
        "outputId": "03cd3a03-b7b4-41ff-c349-7b1f0fb0c8a8"
      },
      "outputs": [
        {
          "name": "stdout",
          "output_type": "stream",
          "text": [
            "\n",
            "<class 'str'>\n"
          ]
        }
      ],
      "source": [
        "# Displaying the variable and its type given by the user\n",
        "print(user_name)\n",
        "print(type(user_name))"
      ]
    },
    {
      "cell_type": "code",
      "execution_count": 4,
      "metadata": {
        "colab": {
          "base_uri": "https://localhost:8080/"
        },
        "id": "LVtlIU4u1zHU",
        "outputId": "87dbdd54-ca7b-4060-d2c4-9ed181a479f0"
      },
      "outputs": [],
      "source": [
        "# Ask user to input their fav number\n",
        "user_fav_number = input('Enter your favourite number:- ')"
      ]
    },
    {
      "cell_type": "code",
      "execution_count": 5,
      "metadata": {
        "colab": {
          "base_uri": "https://localhost:8080/"
        },
        "id": "a2TKQz8T2C7n",
        "outputId": "f7c13ce6-3e04-4257-e720-f9876df446a4"
      },
      "outputs": [
        {
          "name": "stdout",
          "output_type": "stream",
          "text": [
            "3\n",
            "<class 'str'>\n"
          ]
        }
      ],
      "source": [
        "# Diplay the variable and its type given by the user\n",
        "print(user_fav_number)\n",
        "print(type(user_fav_number))"
      ]
    },
    {
      "cell_type": "markdown",
      "metadata": {
        "id": "Dv6hfZ-K4MtZ"
      },
      "source": [
        "### 5. Data Type Conversion"
      ]
    },
    {
      "cell_type": "code",
      "execution_count": 6,
      "metadata": {
        "colab": {
          "base_uri": "https://localhost:8080/"
        },
        "id": "VhbUKCKL4QRY",
        "outputId": "e47352a1-9459-4b18-fb7b-a1ff205f2312"
      },
      "outputs": [
        {
          "name": "stdout",
          "output_type": "stream",
          "text": [
            "3\n",
            "<class 'int'>\n",
            "3.0\n",
            "<class 'float'>\n"
          ]
        }
      ],
      "source": [
        "# Commands to convert --> str(input), int(input), float(input)\n",
        "\n",
        "# Convert a string data into integer and float\n",
        "str_to_int = int(user_fav_number)\n",
        "print(str_to_int)\n",
        "print(type(str_to_int))\n",
        "\n",
        "str_to_float = float(user_fav_number)\n",
        "print(str_to_float)\n",
        "print(type(str_to_float))"
      ]
    },
    {
      "cell_type": "code",
      "execution_count": 7,
      "metadata": {
        "colab": {
          "base_uri": "https://localhost:8080/"
        },
        "id": "yOfmYy41587N",
        "outputId": "2b0dfe66-869a-4cea-c93e-aff73de9e048"
      },
      "outputs": [
        {
          "name": "stdout",
          "output_type": "stream",
          "text": [
            "The sum of 5 and 6 is 11\n"
          ]
        }
      ],
      "source": [
        "# Get user input of two different integers and add them together\n",
        "n1 = int(input('Give any integer number:- '))\n",
        "n2 = int(input('Give one more integer:- '))\n",
        "print(f\"The sum of {n1} and {n2} is {n1+n2}\")"
      ]
    },
    {
      "cell_type": "markdown",
      "metadata": {
        "id": "rqED3XGP8VmE"
      },
      "source": [
        "### 6. Control Flow\n",
        "* For Loop and While Loop\n",
        "* Condition Statements"
      ]
    },
    {
      "cell_type": "code",
      "execution_count": 8,
      "metadata": {
        "colab": {
          "base_uri": "https://localhost:8080/"
        },
        "id": "x_Gs_vTt9Jsu",
        "outputId": "01fabfb4-87ae-427a-d53f-8bff8d60222a"
      },
      "outputs": [
        {
          "data": {
            "text/plain": [
              "range(1, 11)"
            ]
          },
          "execution_count": 8,
          "metadata": {},
          "output_type": "execute_result"
        }
      ],
      "source": [
        "# range(start, end, skip) ---> Start is inclusive and end is exclusive\n",
        "range(1, 11)"
      ]
    },
    {
      "cell_type": "code",
      "execution_count": 9,
      "metadata": {
        "id": "ar_AEqwj8c1Y"
      },
      "outputs": [
        {
          "name": "stdout",
          "output_type": "stream",
          "text": [
            "1\n",
            "3\n",
            "5\n",
            "7\n",
            "9\n"
          ]
        }
      ],
      "source": [
        "# For loop\n",
        "for index in range(1, 11, 2):\n",
        "  print(index)"
      ]
    },
    {
      "cell_type": "code",
      "execution_count": 10,
      "metadata": {
        "colab": {
          "base_uri": "https://localhost:8080/"
        },
        "id": "QZr0b0iGABvM",
        "outputId": "f09e39d7-7095-48aa-acc5-86a393e5b33f"
      },
      "outputs": [
        {
          "name": "stdout",
          "output_type": "stream",
          "text": [
            "Upper Case\n",
            "upper case\n"
          ]
        }
      ],
      "source": [
        "# convert any string into lower case\n",
        "str_demo = 'Upper Case'\n",
        "print(str_demo)\n",
        "\n",
        "print(str_demo.lower())"
      ]
    },
    {
      "cell_type": "code",
      "execution_count": null,
      "metadata": {
        "colab": {
          "base_uri": "https://localhost:8080/"
        },
        "id": "KFg6PF7t-C4K",
        "outputId": "0f164d40-5390-4907-931a-735bde25c9a3"
      },
      "outputs": [],
      "source": [
        "# While Loop\n",
        "\n",
        "ct = 0\n",
        "print('--- Type \"quit\" to exit! ---')\n",
        "while True:\n",
        "  obj = input(f'Enter your favourite Celestial Object {ct+1}:- ')\n",
        "  ct += 1 # ct = ct + 1\n",
        "  if obj.lower() == 'quit':\n",
        "    break\n",
        "\n"
      ]
    },
    {
      "cell_type": "markdown",
      "metadata": {
        "id": "3qGOPO_CCW27"
      },
      "source": [
        "### 7. Functions"
      ]
    },
    {
      "cell_type": "code",
      "execution_count": 11,
      "metadata": {
        "id": "kDCx3ZzrCYD5"
      },
      "outputs": [],
      "source": [
        "# Creating a function to greet viewers of this video without any input arguments\n",
        "def greet():\n",
        "  print('Hey Astrophiles!')"
      ]
    },
    {
      "cell_type": "code",
      "execution_count": 12,
      "metadata": {
        "colab": {
          "base_uri": "https://localhost:8080/"
        },
        "id": "wxhf5RyYC3PV",
        "outputId": "0ac87c0a-2684-4193-9a4c-abce1d9f3c10"
      },
      "outputs": [
        {
          "name": "stdout",
          "output_type": "stream",
          "text": [
            "Hey Astrophiles!\n"
          ]
        }
      ],
      "source": [
        "# Call that function\n",
        "greet()"
      ]
    },
    {
      "cell_type": "code",
      "execution_count": 13,
      "metadata": {
        "id": "6B9hv3HjDKqI"
      },
      "outputs": [],
      "source": [
        "# Define a function to greet a person whose name will be given as an input\n",
        "def greet_person(name):\n",
        "  print(f'Hey {name}, I hope you are enjoying this session and learning a lot of things in Python!')"
      ]
    },
    {
      "cell_type": "code",
      "execution_count": 14,
      "metadata": {
        "colab": {
          "base_uri": "https://localhost:8080/"
        },
        "id": "fTJMCBkbDbKF",
        "outputId": "0aa9e4f4-c9d1-44a3-bd14-f50e1e178182"
      },
      "outputs": [
        {
          "name": "stdout",
          "output_type": "stream",
          "text": [
            "Hey Rohan, I hope you are enjoying this session and learning a lot of things in Python!\n"
          ]
        }
      ],
      "source": [
        "# Call that function\n",
        "greet_person('Rohan')"
      ]
    },
    {
      "cell_type": "code",
      "execution_count": 15,
      "metadata": {
        "colab": {
          "base_uri": "https://localhost:8080/"
        },
        "id": "HNT-irJxDjND",
        "outputId": "9cbe272c-64bd-406f-d31c-d8ffd39c2b1d"
      },
      "outputs": [
        {
          "name": "stdout",
          "output_type": "stream",
          "text": [
            "Hey Karan, I hope you are enjoying this session and learning a lot of things in Python!\n"
          ]
        }
      ],
      "source": [
        "# Call this function with different name\n",
        "greet_person('Karan')"
      ]
    },
    {
      "cell_type": "code",
      "execution_count": 16,
      "metadata": {
        "colab": {
          "base_uri": "https://localhost:8080/"
        },
        "id": "xC8XxjY-Dwoy",
        "outputId": "b1daf29c-34dc-4bf0-f234-8bf096e63e50"
      },
      "outputs": [
        {
          "name": "stdout",
          "output_type": "stream",
          "text": [
            "Hey everyone, I hope you are enjoying this session and learning a lot of things in Python!\n"
          ]
        }
      ],
      "source": [
        "# Call this function to greet everyone here watching the video\n",
        "greet_person('everyone')"
      ]
    },
    {
      "cell_type": "code",
      "execution_count": 17,
      "metadata": {
        "id": "_6pAAJVXEA4j"
      },
      "outputs": [],
      "source": [
        "# Postional Arguments\n",
        "def greeting(name, msg):\n",
        "  print(f'Hey {name}, {msg}')"
      ]
    },
    {
      "cell_type": "code",
      "execution_count": 18,
      "metadata": {
        "colab": {
          "base_uri": "https://localhost:8080/"
        },
        "id": "pXFSHRY4Ebuv",
        "outputId": "f62116f8-cb25-489f-ff9c-7d3440cba71e"
      },
      "outputs": [
        {
          "name": "stdout",
          "output_type": "stream",
          "text": [
            "Hey Lavanya, Are you an Astrophile?\n"
          ]
        }
      ],
      "source": [
        "# Call this function by placing the input arguments in the same order while building it\n",
        "greeting('Lavanya', 'Are you an Astrophile?')"
      ]
    },
    {
      "cell_type": "code",
      "execution_count": null,
      "metadata": {
        "colab": {
          "base_uri": "https://localhost:8080/"
        },
        "id": "vh0jwn4tErpX",
        "outputId": "b4b6c86b-63f3-4da0-81ee-f5728e0cd82b"
      },
      "outputs": [],
      "source": [
        "# Call the function by shifting the postions of the arguments\n",
        "greeting('Are you an Astrophile?', 'Lavanya')"
      ]
    },
    {
      "cell_type": "code",
      "execution_count": null,
      "metadata": {
        "colab": {
          "base_uri": "https://localhost:8080/"
        },
        "id": "Uifm789-E9pt",
        "outputId": "18883484-3f40-4250-b648-18b6815e6a52"
      },
      "outputs": [],
      "source": [
        "# Call this function with keyword arguments\n",
        "greeting(msg = 'Are you an Astrophile?', name = 'Lavanya')"
      ]
    },
    {
      "cell_type": "code",
      "execution_count": null,
      "metadata": {
        "id": "javVZFEtFL-s"
      },
      "outputs": [],
      "source": [
        "# Default arguments\n",
        "def greeting_with_default_args(name, msg='Welcome to this program on Astronomy Visualization!'):\n",
        "  print(f'Hey {name}, {msg}')"
      ]
    },
    {
      "cell_type": "code",
      "execution_count": null,
      "metadata": {
        "colab": {
          "base_uri": "https://localhost:8080/"
        },
        "id": "5nslux-8Fe_I",
        "outputId": "f86c0270-ebce-45b7-acbc-1c2507d72436"
      },
      "outputs": [],
      "source": [
        "# Call this function without passing msg arg\n",
        "greeting_with_default_args('Rohan', msg = 'Whats up?')"
      ]
    },
    {
      "cell_type": "code",
      "execution_count": 19,
      "metadata": {
        "id": "R7j1GithGB3G"
      },
      "outputs": [],
      "source": [
        "# Create a function that will either add, subtract, multiply or divide two input numbers\n",
        "def basic_calc(n1, n2, operation):\n",
        "\n",
        "  if operation.lower() == 'add':\n",
        "    return n1+n2\n",
        "  elif operation.lower() == 'subtract':\n",
        "    return n1-n2\n",
        "  elif operation.lower() == 'multiply':\n",
        "    return n1*n2\n",
        "  elif operation.lower() == 'divide':\n",
        "    return n1/n2\n",
        "  else:\n",
        "    print(f'Opertation input can either take:- add, multiply, subtract or divide. You gave:- {operation}. Try again')"
      ]
    },
    {
      "cell_type": "code",
      "execution_count": 20,
      "metadata": {
        "colab": {
          "base_uri": "https://localhost:8080/"
        },
        "id": "rNkj42BsGfAH",
        "outputId": "08ca4f59-085b-430c-910e-813eab4469e8"
      },
      "outputs": [
        {
          "name": "stdout",
          "output_type": "stream",
          "text": [
            "5\n"
          ]
        }
      ],
      "source": [
        "addition = basic_calc(2, 3, 'add')\n",
        "print(addition)"
      ]
    },
    {
      "cell_type": "code",
      "execution_count": 21,
      "metadata": {
        "colab": {
          "base_uri": "https://localhost:8080/"
        },
        "id": "ATifDCznHEYa",
        "outputId": "5e0e3735-30c4-49a7-e03e-648c4f66d214"
      },
      "outputs": [
        {
          "name": "stdout",
          "output_type": "stream",
          "text": [
            "9\n"
          ]
        }
      ],
      "source": [
        "multiply = basic_calc(3, 3, 'multiply')\n",
        "print(multiply)"
      ]
    },
    {
      "cell_type": "code",
      "execution_count": 22,
      "metadata": {
        "colab": {
          "base_uri": "https://localhost:8080/"
        },
        "id": "658yMro8HMXD",
        "outputId": "a700ec8c-e499-4cb5-b2e2-6611ed63c4e7"
      },
      "outputs": [
        {
          "name": "stdout",
          "output_type": "stream",
          "text": [
            "Opertation input can either take:- add, multiply, subtract or divide. You gave:- daskdjakdjak. Try again\n"
          ]
        }
      ],
      "source": [
        "basic_calc(3, 3, 'daskdjakdjak')"
      ]
    }
  ],
  "metadata": {
    "colab": {
      "provenance": []
    },
    "kernelspec": {
      "display_name": "Python 3",
      "name": "python3"
    },
    "language_info": {
      "codemirror_mode": {
        "name": "ipython",
        "version": 3
      },
      "file_extension": ".py",
      "mimetype": "text/x-python",
      "name": "python",
      "nbconvert_exporter": "python",
      "pygments_lexer": "ipython3",
      "version": "3.12.1"
    }
  },
  "nbformat": 4,
  "nbformat_minor": 0
}
